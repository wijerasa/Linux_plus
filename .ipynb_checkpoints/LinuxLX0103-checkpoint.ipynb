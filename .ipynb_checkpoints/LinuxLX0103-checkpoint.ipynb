{
 "cells": [
  {
   "cell_type": "markdown",
   "metadata": {},
   "source": [
    "[Book](https://lnduy.files.wordpress.com/2013/05/comptia-linux-lx0-101-lx0-102.pdf)\n",
    "\n",
    "<h1> CHAPTER 1 </h1>\n",
    "\n",
    "* [Understadning Command-Line Basics](#Understadning Command-Line Basics)\n",
    "* [Using Streams, Redirection, and Pipes](#Using Streams, Redirection, and Pipes)\n",
    "* [Processing Text Using Filters](#Processing Text Using Filters)\n",
    "* [Using Regular Expressions](#Using Regular Expressions)"
   ]
  },
  {
   "cell_type": "markdown",
   "metadata": {},
   "source": [
    "<h2> Understadning Command-Line Basics</h2> <a id=\"Understadning Command-Line Basics\"></a>\n",
    "- enviornment variables = place holders for data\n",
    "\n",
    "<h3> Shell options </h3>\n",
    "\n",
    "- bash - GNU Bourne Again Shell(bash), default shell for unix, exam\n",
    "- sh\n",
    "- tcsh - Base on C shell,<font color=\"green\">env assiging differ to Bash</font>\n",
    "- csh -  Original C shell\n",
    "- ksh -  Korn shell, best of bash + csh + extend \n",
    "- zsh -  Z shell, ksh+ earliersh + extend\n",
    "\n",
    "\n",
    "<p><font color=\"red\">*Two default shells:*</font>\n",
    "\n",
    "- default ineractive shell - User enter commands\n",
    "- default system shell - System runs system shell scripts\n",
    "\n",
    "--------------------\n",
    "\n",
    "<h3> Using a Shell</h3>\n",
    "\n",
    "- Most linux commands are **external** - **programs** seperate from shell\n",
    "- Few **internal**\n",
    "\n",
    "----------------\n",
    "\n",
    "\n",
    "### Starting a Shell ###\n",
    "\n",
    "- *ssh* drops you to default shell\n",
    "- In GUI, you can start shell emulator- **xterm, konsole**\n"
   ]
  },
  {
   "cell_type": "code",
   "execution_count": 1,
   "metadata": {
    "collapsed": false
   },
   "outputs": [
    {
     "name": "stdout",
     "output_type": "stream",
     "text": [
      "Darwin\r\n"
     ]
    }
   ],
   "source": [
    "uname"
   ]
  },
  {
   "cell_type": "code",
   "execution_count": 2,
   "metadata": {
    "collapsed": false
   },
   "outputs": [
    {
     "name": "stdout",
     "output_type": "stream",
     "text": [
      "Darwin MCIC-SEL17-D1 15.3.0 Darwin Kernel Version 15.3.0: Thu Dec 10 18:40:58 PST 2015; root:xnu-3248.30.4~1/RELEASE_X86_64 x86_64\r\n"
     ]
    }
   ],
   "source": [
    "uname -a "
   ]
  },
  {
   "cell_type": "markdown",
   "metadata": {},
   "source": [
    "- Os - Linux\n",
    "- hostname - e6b10caa4558\n",
    "- Kernel -  4.0.9-boot2docker"
   ]
  },
  {
   "cell_type": "markdown",
   "metadata": {},
   "source": [
    "______________\n",
    "### Using Internal and External Commands ###\n",
    "\n",
    "   *Internal commands are called built-in commands*\n",
    "   \n",
    " <h4>Internal Commands:</h4>\n",
    " \n",
    " - Change the Working Directory\n",
    "```bash\n",
    "cd Linux_lessons_files # changing the directory to Linux_lessons_files\n",
    "cd ~ # changing the directory to $HOME\n",
    "```\n",
    "\n",
    "- Display Working Directory\n",
    "```bash\n",
    "pwd #print working directory\n",
    "```\n",
    "\n",
    "- Display a Line of Text\n",
    "```bash\n",
    "echo Hello\n",
    "```\n",
    "\n",
    "- Time an Operation\n",
    "```bash\n",
    "time pwd\n",
    "```\n",
    "    - Total execution time (aka real time)\n",
    "    - User CPU time\n",
    "    - System CPU time"
   ]
  },
  {
   "cell_type": "code",
   "execution_count": 1,
   "metadata": {
    "collapsed": false
   },
   "outputs": [
    {
     "name": "stdout",
     "output_type": "stream",
     "text": [
      "Helloooo\r\n",
      "\r\n",
      "real\t0m0.000s\r\n",
      "user\t0m0.000s\r\n",
      "sys\t0m0.000s\r\n"
     ]
    }
   ],
   "source": [
    "time echo Helloooo"
   ]
  },
  {
   "cell_type": "markdown",
   "metadata": {},
   "source": [
    "- Set Options \n",
    "\n",
    "> Ex:\n",
    "\n",
    "> In bash like in any Bourne-like shell, set is the command to set options (shell configuration settings like -f, -C, -o noclobber...) and positional parameters (\\$1, \\$2...).\n",
    "\n",
    "> ```bash\n",
    "set FILEM=\"razrax\"\n",
    "echo \"$1\"\n",
    "```\n",
    "FILEM=razrax\n",
    "\n",
    "    - The syntax for variable assignment in Bourne-like shells is:\n",
    "  \n",
    "  ```bash\n",
    "  VAR=value\n",
    "  ```\n",
    "\n",
    "- Terminate the Shell\n",
    "  - exit - Terminates any shell, kill imulators: xterm, Terminal\n",
    "  - logout - Terminates *login shell*, when iniate text-mode login\n",
    "\n",
    "\n",
    "*Check a command to determine if a command is a built-in:*\n",
    "  "
   ]
  },
  {
   "cell_type": "code",
   "execution_count": 7,
   "metadata": {
    "collapsed": false
   },
   "outputs": [
    {
     "name": "stdout",
     "output_type": "stream",
     "text": [
      "pwd is a shell builtin\r\n"
     ]
    }
   ],
   "source": [
    "type pwd"
   ]
  },
  {
   "cell_type": "code",
   "execution_count": 8,
   "metadata": {
    "collapsed": false
   },
   "outputs": [
    {
     "name": "stdout",
     "output_type": "stream",
     "text": [
      "cd is a shell builtin\r\n"
     ]
    }
   ],
   "source": [
    "type cd"
   ]
  },
  {
   "cell_type": "code",
   "execution_count": 11,
   "metadata": {
    "collapsed": false
   },
   "outputs": [
    {
     "name": "stdout",
     "output_type": "stream",
     "text": [
      "time is a shell keyword\r\n"
     ]
    }
   ],
   "source": [
    "type -a time"
   ]
  },
  {
   "cell_type": "code",
   "execution_count": 10,
   "metadata": {
    "collapsed": false
   },
   "outputs": [
    {
     "name": "stdout",
     "output_type": "stream",
     "text": [
      "bash is /bin/bash\r\n"
     ]
    }
   ],
   "source": [
    "type bash"
   ]
  },
  {
   "cell_type": "code",
   "execution_count": 13,
   "metadata": {
    "collapsed": false
   },
   "outputs": [
    {
     "name": "stdout",
     "output_type": "stream",
     "text": [
      "cd is a shell builtin\r\n"
     ]
    }
   ],
   "source": [
    "#Some of the commands are duplicated by external-commands, to check use -a\n",
    "type -a cd"
   ]
  },
  {
   "cell_type": "code",
   "execution_count": 2,
   "metadata": {
    "collapsed": false
   },
   "outputs": [
    {
     "name": "stdout",
     "output_type": "stream",
     "text": [
      "pwd is a shell builtin\r\n",
      "pwd is /bin/pwd\r\n"
     ]
    }
   ],
   "source": [
    "type -a pwd"
   ]
  },
  {
   "cell_type": "markdown",
   "metadata": {},
   "source": [
    "><font color=\"Red\"> Note:</font>\n",
    ">Even external commands are installed *built-in* commands take precedence  \n",
    "\n",
    ">Sometime *built-in* provides slightly different output than external-commands\n",
    "\n",
    "> when type a command, shell checks its internal commands, then in *PATH* - list of directories in which commands can be found.\n",
    "\n",
    "\n",
    "**You have to set the program's executable bit to execut a program**"
   ]
  },
  {
   "cell_type": "markdown",
   "metadata": {},
   "source": [
    "--------------\n",
    "\n",
    "### Performing Some Shell Command Tricks ###\n",
    "\n",
    "- Command Completion\n",
    "    - Maximum characters for the filename = 255\n",
    "- history\n",
    "    - Last 500 commands\n",
    "    - !! show and execute the last command \n",
    "    - !20 execute the 20th command\n",
    "    - history -c clear the history\n",
    "    - History stored in <font color=\"green\">**.bash_history -plain text file**</font>\n",
    "    - **Retrieve a Command**: *Up* or *Down* or ctrl + P or ctrl + N\n",
    "    - **Search for a Command**: *ctrl + R* - backward search, and type characters unique to command, then keep press *ctrl + R* until you find it. Forward search *ctrl + S*\n",
    "    - <font color=\"red\">TIP:</font> if your stuck while above step use *ctrl + Q*. To avoid ** stty -ixon **\n",
    "    - *Ctrl + G* -Terminate\n",
    "    \n",
    "- Move within the line\n",
    "    - *Ctrl+A* - Go to the begining of the line\n",
    "    - *Ctrl+E* - Go to the end od the line\n",
    "    - *>* or *Ctrl+F* - Move one character to the right\n",
    "    - *<* or *Ctrl+B*  - Move one character to the left\n",
    "    - *Ctrl + >* or * Esc then F* - Move word at a time to right\n",
    "    - *Ctrl + <* or * Esc then B * - Move word at a time to left\n",
    "    \n",
    "- Delete Text\n",
    "    - *Ctrl+D* - Delete chatacter / *Delete* button\n",
    "    - *Ctrl+K* - Delete all the character from the curosr to the end of the line\n",
    "    - *Ctrl+X and Backspace* - Delete all the characters from the curosr to the begining \n",
    "    \n",
    "- Transpose text\n",
    "    - *Ctrl +T* - Transpose the character before the cursor with character under the cursor\n",
    "    - *Esc and T* - Transpose the two words immediatly before the cursor\n",
    "    \n",
    "- Change Case\n",
    "    - *Esc then U* - Cusrsor to end of the word upper case\n",
    "    - *Esc then L* - Cursor to end of the word to lower case\n",
    "    - *Esc then C* - Letter undet the cursor to upper case, rest unaffected\n",
    "    \n",
    "- Invoke Editor\n",
    "    - *Ctrl+X followed by Ctrl+E* - Editor \n",
    "    - Launch depends on \\$FCEDIT or \\$EDITOR\n",
    "    \n",
    "    "
   ]
  },
  {
   "cell_type": "markdown",
   "metadata": {
    "collapsed": true
   },
   "source": [
    "___\n",
    "### Exploring Shell Configuration ###"
   ]
  },
  {
   "cell_type": "markdown",
   "metadata": {
    "collapsed": true
   },
   "source": [
    "- shells configured throgh the configuration files-plain test formated file\n",
    "- Bash configuration file -bash shell script\n",
    "- e.g: ~/.bashrc and /etc/profile\n",
    "\n",
    "<font color=\"red\">WARNING:</font> Careful when changing the global config files. \n",
    "    - Make a copy before change\n",
    "    - Logging in using another VT and check the changes"
   ]
  },
  {
   "cell_type": "markdown",
   "metadata": {
    "collapsed": true
   },
   "source": [
    "___________\n",
    "### Using Environment Variables ###\n",
    "- Variables like in programes, hold data rfered to by the variables\n",
    "- Differ from internal variables:\n",
    "    - part of the program enviornment, such as shell\n",
    "    - can modifiy this environment\n",
    "- Programs rely on environment variable\n",
    "    - e.g: text-based programs rely on \\$TERM, hold the capabilitis of terminal program you use"
   ]
  },
  {
   "cell_type": "code",
   "execution_count": 1,
   "metadata": {
    "collapsed": false
   },
   "outputs": [
    {
     "name": "stdout",
     "output_type": "stream",
     "text": [
      "xterm-256color\r\n"
     ]
    }
   ],
   "source": [
    "echo $TERM"
   ]
  },
  {
   "cell_type": "markdown",
   "metadata": {},
   "source": [
    "- Setting environment variable\n",
    "    - E.g:\n",
    "\n",
    "```bash\n",
    "export PS1=\"My new Prompt\"\n",
    "echo $PS1\n",
    "\n",
    "```\n",
    "- <font color=\"red\">NOTE:</font> Some variable are set automatically, via shell **shell config file**,e.g $PATH. *Program doc should say use of any env variables*\n",
    "- env - Shows all the env variables\n",
    "- unset - To delete a variable\n",
    "    - e.g: \n",
    "    \n",
    "    ```bash \n",
    "    unset $PS1 \n",
    "    \n",
    "    ```\n",
    "    - To delete terminal prompt"
   ]
  },
  {
   "cell_type": "markdown",
   "metadata": {},
   "source": [
    "_____________\n",
    "### Getting Help ###\n",
    "\n",
    "- man - Help system, summaries file, command, or other feature does\n",
    "- Use _less_ pager to display\n",
    "    - _Space bar_ - move a page forward\n",
    "    - _Esc then V_ - move a page backward\n",
    "    - _ Up arrow or Down arrow_ - line by line\n",
    "    - _/_ - To search text\n",
    "    - _Q_ - To excit\n",
    "- To change the pager\n",
    "    - e.g: To _more_\n",
    "    ```bash\n",
    "    man -P /bin/more uname\n",
    "    ```\n",
    "- e.g: If you want to know the 'export' or builtin command\n",
    "\n",
    "```bash\n",
    "man export\n",
    "man builtin\n",
    "```\n",
    "- Search the manual pages for the keywords\n",
    "```bash \n",
    "man -k \"system information\"\n",
    "```\n",
    "    - man util keyword search not implimented in old systems, to get it work, type in the terminal as _sudo_\n",
    "    - \n",
    "    ```bash\n",
    "    makewhatis\n",
    "    ```\n",
    "-Keywords can be in serveral sections, default man print lowest-numbered section\n",
    "    - \n",
    "    ```bash\n",
    "    man 5 passwd\n",
    "    ```\n",
    "    - returns info on the passwd _file format_ than the _passwd command_\n",
    "\n",
    "<table id=\"box-table-a\">\n",
    "<tr>\n",
    "    <th>Section number</th> <th>Description</th> \n",
    "</tr>\n",
    "    \n",
    "    <tr> <td>1 </td> <td>Executable programs and the shell commands</td> </tr>\n",
    "    <tr> <td>2 </td> <td  >System calls provideed by the kernel</td> </tr>\n",
    "    <tr> <td>3 </td> <td  >Library Calls provided by program libraries</td> </tr>\n",
    "    <tr> <td>4 </td> <td  >Device files (usually stored in /dev</td> </tr>\n",
    "    <tr> <td>5 </td> <td  >File formats</td> </tr>\n",
    "    <tr> <td>6 </td> <td  >Games</td> </tr>\n",
    "    <tr> <td>7 </td> <td  >Miscellaneous (macro packages, conventions, and so on</td>\n",
    "    <tr> <td>8 </td> <td  >System administration commands (Programs run mostly or exlusively by root)</td> </tr>\n",
    "    <tr> <td>9 </td> <td  >Kernel routines</td> </tr>\n",
    "</table>\n",
    "\n",
    "- <font color=\"green\">info</font> - same as _man_, but use Hypertext format, can easily go section to section\n",
    "- <font color=\"green\">help</font> - pages for builtin commands"
   ]
  },
  {
   "cell_type": "markdown",
   "metadata": {},
   "source": [
    "<h2> Using Streams, Redirection, and Pipes </h2> <a id=\"Using Streams, Redirection, and Pipes\"></a>"
   ]
  },
  {
   "cell_type": "markdown",
   "metadata": {},
   "source": [
    "### Exploring File Descriptors ###\n",
    "- For Linux all objects are files\n",
    "- Programs treat STDIN, STDOUT and, STDERR as regular files\n",
    "\n",
    "<table id=\"box-table-a\">\n",
    "<tr>\n",
    "    <th>Name</th> <th>Abbrevation</th> <th>Descriptor</th> \n",
    "</tr>\n",
    "    \n",
    "    <tr> <td>Standard Input </td> <td>STDIN</td> <td>0</td></tr>\n",
    "    <tr> <td>Standard output </td> <td>STDOUT</td> <td>1</td></tr>\n",
    "    <tr> <td>Standard Error </td> <td>STDERR</td><td  >2</td>  </tr>\n",
    "</table>\n",
    "\n"
   ]
  },
  {
   "cell_type": "markdown",
   "metadata": {},
   "source": [
    "### Redirecting Input and Output ###\n",
    "\n",
    "- STDOUT to a file"
   ]
  },
  {
   "cell_type": "code",
   "execution_count": 5,
   "metadata": {
    "collapsed": false
   },
   "outputs": [
    {
     "name": "stdout",
     "output_type": "stream",
     "text": [
      "/Users/saranga/anaconda/bin:/usr/local/bin:/usr/bin:/bin:/usr/sbin:/sbin:/opt/X11/bin:/usr/local/mysql/bin:/Users/saranga/Documents/WORK/Software/samtools-1.2/misc:/Users/saranga/Desktop/Tomato_RNA_Align_Kallisto/Software/kallisto/build/src:/Users/saranga/Documents/WORK/Software/samtools-1.2/:/Users/saranga/Documents/WORK/Software/FastQC:/Users/saranga/Documents/WORK/Software/scythe:/Users/saranga/Documents/WORK/Software/sickle:/Users/saranga/Documents/WORK/Software/tophat-2.1.0.OSX_x86_64:/usr/texbin:/Users/saranga/Documents/WORK/Software/bedtools2/bin:/Users/saranga/cctools/bin:/Users/saranga/Documents/WORK/Software/bowtie2-2.2.6\r\n"
     ]
    }
   ],
   "source": [
    "echo $PATH 1> Linux_lessons_files/path.txt\n",
    "cat Linux_lessons_files/path.txt"
   ]
  },
  {
   "cell_type": "markdown",
   "metadata": {},
   "source": [
    "<font color=\"blue\">Note:</font> STDOUT or STDIN doesn't need to use its descriptir(1/0), can use the operator only (>/<). \n",
    "\n",
    "<table id=\"box-table-a\">\n",
    "<tr>\n",
    "    <th>Redirection Operator</th><th>Descriptor</th> <th>New File</th> <th>Over Writes Exist File</th> <th>Descriptor Need</th>\n",
    "</tr>\n",
    "    \n",
    "    <tr> <td>> </td> <td>1, STDOUT</td><td>Creates</td> <td>Yes</td> <td>No, Operator enough</td> </tr>\n",
    "    <tr> <td>>> </td> <td>1, STDOUT</td><td>No</td> <td>No, Appends</td> <td>No, Operator enough</td> </tr>\n",
    "    <tr> <td> 2> </td> <td>2, STDERR</td><td>Creates</td> <td>Yes</td> <td>Yes</td> </tr>\n",
    "    <tr> <td> 2>> </td> <td>2, STDERR</td><td>No</td> <td>No, Appends</td> <td>Yes</td> </tr>\n",
    "    <tr> <td> &> </td> <td>Both STDOUT n STDERR</td><td>Yes</td> <td>Yes</td> <td>No</td> </tr>\n",
    "     <tr> <td> < </td> <td>0, STDIN<td>NA</td> <td>NA</td> <td>No</td></tr>\n",
    "     <tr> <td> <\\< </td> <td>0, STDIN<td>NA, Accept text on following lines as STDIN</td> <td>NA</td> <td>No</td></tr>\n",
    "     <tr> <td> <> </td> <td>NA<td>NA,Accept file as input and output</td> <td>Yes</td> <td>No</td></tr>\n",
    "\n",
    "\n",
    "</table>"
   ]
  },
  {
   "cell_type": "code",
   "execution_count": 1,
   "metadata": {
    "collapsed": false
   },
   "outputs": [
    {
     "name": "stdout",
     "output_type": "stream",
     "text": []
    }
   ],
   "source": [
    "echo \"Hello From the otherside\" >Linux_lessons_files/Hello.txt"
   ]
  },
  {
   "cell_type": "code",
   "execution_count": 3,
   "metadata": {
    "collapsed": false
   },
   "outputs": [
    {
     "name": "stdout",
     "output_type": "stream",
     "text": [
      "Hello From the otherside\r\n"
     ]
    }
   ],
   "source": [
    "cat <> Linux_lessons_files/Hello.txt"
   ]
  },
  {
   "cell_type": "markdown",
   "metadata": {},
   "source": [
    "- << implements _a here document_ "
   ]
  },
  {
   "cell_type": "code",
   "execution_count": 10,
   "metadata": {
    "collapsed": false
   },
   "outputs": [
    {
     "name": "stdout",
     "output_type": "stream",
     "text": [
      "1 one\r\n",
      "2 two\r\n",
      "3 three\r\n"
     ]
    }
   ],
   "source": [
    "sort -k1 << EOF\n",
    "1 one\n",
    "3 three\n",
    "2 two\n",
    "EOF"
   ]
  },
  {
   "cell_type": "markdown",
   "metadata": {},
   "source": [
    "<font color=\"Orange\">TIP: </font>STDERR or STDOUT to /de/null, device connect to nothing which is used when you want to get rid of data"
   ]
  },
  {
   "cell_type": "markdown",
   "metadata": {},
   "source": [
    "________________\n",
    "### Piping Data Between Programs ####\n",
    "\n",
    "- Pipe redirects the first program's STDOUT to second's STDIN\n",
    "    - grep, command used with pipe\n",
    "    - tee, splits the STDIN and diplay om STDOUT\n",
    "        - Use when STDOUT needs to be stored and view\n",
    "        - File is over writen, to append \n",
    "        ```bash\n",
    "        tee -a\n",
    "        ```"
   ]
  },
  {
   "cell_type": "code",
   "execution_count": 2,
   "metadata": {
    "collapsed": false
   },
   "outputs": [
    {
     "name": "stdout",
     "output_type": "stream",
     "text": [
      "/Users/saranga/anaconda/bin:/usr/local/bin:/usr/bin:/bin:/usr/sbin:/sbin:/usr/local/mysql/bin:/Users/saranga/Desktop/Mothur_Workshop/mothur\r\n"
     ]
    }
   ],
   "source": [
    "echo $PATH | tee Linux_lessons_files/Pipe_tee.txt"
   ]
  },
  {
   "cell_type": "markdown",
   "metadata": {},
   "source": [
    "_________________________\n",
    "### Generating Command lines ###\n",
    "\n",
    "<font color=\"Orange\">USE CASE :</font> Search for the directories belong to certain users \n",
    "- Commands : find & xargs\n",
    "\n",
    "```bash\n",
    "xargs [options] [command[initial-arguments]]\n",
    "\n",
    "find / -name Christne | xargs -d \"\\n\" rm \n",
    "\n",
    "```\n",
    "    -d \"\\n\" when dealing with folder with spaces in their filenames, use only newline as delimeter\n",
    "\n",
    "- Command : (`) backtick\n",
    "```bash\n",
    "rm `find ./ -user Christine`\n",
    "```\n",
    "    - Both xargs and ` work very similar but ` fails some complex situations.\n",
    "    - Backtick outputs contains command is passed to the command it precedes as if it had been typed at the shell\n",
    "    ![Example](images/backtick.png)\n",
    "- Command : \\$()\n",
    "\n",
    "```bash\n",
    "rm $(find ./ -name Christine)\n",
    "```"
   ]
  },
  {
   "cell_type": "markdown",
   "metadata": {},
   "source": [
    "____________________\n",
    "<h2> Processing Text Using Filters </h2><a id=\"Processing Text Using Filters\"></a>"
   ]
  },
  {
   "cell_type": "markdown",
   "metadata": {},
   "source": [
    "### File-Combining Commands ###\n",
    "\n",
    "- Command : <font color=\"green\">_cat_ </font>_concatenate_\n",
    "    - display content of short file, for larger files pagers like _less_ or _more_"
   ]
  },
  {
   "cell_type": "code",
   "execution_count": 6,
   "metadata": {
    "collapsed": false
   },
   "outputs": [
    {
     "name": "stdout",
     "output_type": "stream",
     "text": [
      "Data from first file\r\n",
      "Data from second file\r\n"
     ]
    }
   ],
   "source": [
    "cat Linux_lessons_files/cat_first.txt Linux_lessons_files/cat_second.txt | tee Linux_lessons_files/cat_final.txt"
   ]
  },
  {
   "cell_type": "markdown",
   "metadata": {},
   "source": [
    "<table id=\"box-table-b\">\n",
    "<tr>\n",
    "    <th>Description</th> <th>Option</th> \n",
    "</tr>\n",
    "    \n",
    "    <tr> <td>Display Line Ends</td> <td>-E, --show-ends (\\$) </td></tr>\n",
    "    <tr> <td>Number line Ends</td> <td>-n, --number, -b, --number-nonblank (number only lines that contain text)</td></tr>\n",
    "    <tr> <td>Minimize Blank Lines</td> <td>-s, --squeeze-blank(group of blank line to single blank line)</td></tr>\n",
    "    <tr> <td>Display Special Chatacters</td> <td>-T, --show-tabs(^I), -v,--show-nonprinting</td></tr>\n",
    "</table>"
   ]
  },
  {
   "cell_type": "code",
   "execution_count": 1,
   "metadata": {
    "collapsed": false
   },
   "outputs": [
    {
     "name": "stdout",
     "output_type": "stream",
     "text": [
      "555-9871 Orwell, Samuel, FEB, ABC$\r\n",
      "555-7929 Jones, Theresa, MAR, dEF"
     ]
    }
   ],
   "source": [
    "cat -e Linux_lessons_files/sort_splitedab"
   ]
  },
  {
   "cell_type": "code",
   "execution_count": 2,
   "metadata": {
    "collapsed": false
   },
   "outputs": [
    {
     "name": "stdout",
     "output_type": "stream",
     "text": [
      "     1\t555-2397 Beckett, Barry, JAN, aBc\r\n",
      "     2\t555-5116 Carter, Gertrude, DEC, ABc\r\n",
      "     3\t555-9871 Orwell, Samuel, FEB, ABC\r\n",
      "     4\t555-7929 Jones, Theresa, MAR, dEF"
     ]
    }
   ],
   "source": [
    "cat -n Linux_lessons_files/sort_this_file.txt"
   ]
  },
  {
   "cell_type": "code",
   "execution_count": 24,
   "metadata": {
    "collapsed": false
   },
   "outputs": [
    {
     "name": "stdout",
     "output_type": "stream",
     "text": [
      "Line one\r\n",
      "\r\n",
      "\r\n",
      "Line two\r\n",
      "Line one\r\n",
      "\r\n",
      "Line two\r\n"
     ]
    }
   ],
   "source": [
    "cat Linux_lessons_files/cat_squeeze.txt && cat -s Linux_lessons_files/cat_squeeze.txt"
   ]
  },
  {
   "cell_type": "markdown",
   "metadata": {},
   "source": [
    "- Command : <font color=\"green\">_tac_ </font>_same as cat_\n",
    "    - revers the order of the output"
   ]
  },
  {
   "cell_type": "markdown",
   "metadata": {},
   "source": [
    "### Joining files by Filed with _join_ ###\n",
    "\n",
    "- combine two files by matchig coloumn, more like database join\n",
    "- Your two coloumns have to be <font color=\"red\"> sorted</font> befor joining\n",
    "\n",
    "<table id=\"box-table-b\">\n",
    "<tr>\n",
    "    <th>Parameter</th> <th>Purpose</th> \n",
    "</tr>\n",
    "    \n",
    "    <tr> <td>-t _char_</td> <td>Default _tabs_, can use to set the field seperator</td></tr>\n",
    "    <tr> <td>-i</td> <td>ignore case while do the field matching </td></tr>\n",
    "    <tr> <td>-1 -2 </td> <td>-1 3 -2 2, Use 3rd col of first file n 2nd filed of sec'nd file </td></tr>\n",
    "    <tr> <td>-o </td> <td>Output fileds </td></tr>\n",
    "   \n",
    "</table>"
   ]
  },
  {
   "cell_type": "code",
   "execution_count": 9,
   "metadata": {
    "collapsed": false
   },
   "outputs": [
    {
     "name": "stdout",
     "output_type": "stream",
     "text": [
      "555-2397\r\n",
      "555-5116\r\n",
      "555-9871\r\n",
      "555-7929\r\n",
      "555-2397 Beckett\r\n",
      "555-5116 Carter\r\n",
      "555-9871 Orwell\r\n",
      "555-7929 Jones\r\n"
     ]
    }
   ],
   "source": [
    "cat Linux_lessons_files/join_this_file1.txt Linux_lessons_files/join_this_file2.txt"
   ]
  },
  {
   "cell_type": "code",
   "execution_count": 8,
   "metadata": {
    "collapsed": false
   },
   "outputs": [
    {
     "name": "stdout",
     "output_type": "stream",
     "text": [
      "555-2397 Beckett\r\n",
      "555-5116 Carter\r\n",
      "555-9871 Orwell\r\n",
      "555-7929 Jones\r\n"
     ]
    }
   ],
   "source": [
    "join Linux_lessons_files/join_this_file1.txt Linux_lessons_files/join_this_file2.txt"
   ]
  },
  {
   "cell_type": "markdown",
   "metadata": {},
   "source": [
    "### Merging Lines with paste ### [cbtnuggets](https://www.cbtnuggets.com/it-training/lpi-linux-lpic-1-and-comptia-linuxplus-prep/20?autostart=1)\n",
    "- combine line by line seperate by tab"
   ]
  },
  {
   "cell_type": "code",
   "execution_count": 11,
   "metadata": {
    "collapsed": false
   },
   "outputs": [
    {
     "name": "stdout",
     "output_type": "stream",
     "text": [
      "555-2397\r\n",
      "555-5116\r\n",
      "555-9871\r\n",
      "555-7929\r\n",
      "555-2397 Beckett\r\n",
      "555-5116 Carter\r\n",
      "555-9871 Orwell\r\n",
      "555-7929 Jones\r\n"
     ]
    }
   ],
   "source": [
    "cat Linux_lessons_files/join_this_file1.txt Linux_lessons_files/join_this_file2.txt"
   ]
  },
  {
   "cell_type": "code",
   "execution_count": 12,
   "metadata": {
    "collapsed": false
   },
   "outputs": [
    {
     "name": "stdout",
     "output_type": "stream",
     "text": [
      "555-2397\t555-2397 Beckett\r\n",
      "555-5116\t555-5116 Carter\r\n",
      "555-9871\t555-9871 Orwell\r\n",
      "555-7929\t555-7929 Jones\r\n"
     ]
    }
   ],
   "source": [
    "paste Linux_lessons_files/join_this_file1.txt Linux_lessons_files/join_this_file2.txt"
   ]
  },
  {
   "cell_type": "markdown",
   "metadata": {},
   "source": [
    "### Converting Tabs to Space with _expand_ ###\n",
    "- By default, tab is every 8 characters\n",
    "- t changes the number"
   ]
  },
  {
   "cell_type": "code",
   "execution_count": 16,
   "metadata": {
    "collapsed": false
   },
   "outputs": [
    {
     "name": "stdout",
     "output_type": "stream",
     "text": [
      "555-2397        555-2397 Beckett\r\n",
      "555-5116        555-5116 Carter\r\n",
      "555-9871        555-9871 Orwell\r\n",
      "555-7929        555-7929 Jones\r\n"
     ]
    }
   ],
   "source": [
    "paste Linux_lessons_files/join_this_file1.txt Linux_lessons_files/join_this_file2.txt | expand"
   ]
  },
  {
   "cell_type": "markdown",
   "metadata": {},
   "source": [
    "### Display  Files in Octal with _od (Octal Dump)_ ###\n",
    "\n",
    "- some files not in ASCII, graphical files, music files"
   ]
  },
  {
   "cell_type": "code",
   "execution_count": 2,
   "metadata": {
    "collapsed": false
   },
   "outputs": [
    {
     "name": "stdout",
     "output_type": "stream",
     "text": [
      "0000000    052457  062563  071562  071457  071141  067141  060547  060457\r\n",
      "0000020    060556  067543  062156  027541  064542  035156  072457  071163\r\n",
      "0000040    066057  061557  066141  061057  067151  027472  071565  027562\r\n",
      "0000060    064542  035156  061057  067151  027472  071565  027562  061163\r\n",
      "0000100    067151  027472  061163  067151  027472  071565  027562  067554\r\n",
      "0000120    060543  027554  074555  070563  027554  064542  005156        \r\n",
      "0000136\r\n"
     ]
    }
   ],
   "source": [
    "od Linux_lessons_files/Pipe_tee.txt"
   ]
  },
  {
   "cell_type": "markdown",
   "metadata": {},
   "source": [
    "### Sorting Files with *sort* ###\n",
    "\n",
    "\n"
   ]
  },
  {
   "cell_type": "markdown",
   "metadata": {},
   "source": [
    "| Parameter | Perpose |\n",
    "|----------:|---------:|\n",
    "| -f, --ignore-case | Ignore Case |\n",
    "| -M, --month-sort | Month sort (JAN-DEC)|\n",
    "| -n, --numeric-sort | sort by number |\n",
    "| -r, --reverse | sorts in reverse order |\n",
    "| -k, --key=filed | default, first field, --k=1 or --k=1,3,4  |"
   ]
  },
  {
   "cell_type": "code",
   "execution_count": 1,
   "metadata": {
    "collapsed": false
   },
   "outputs": [
    {
     "name": "stdout",
     "output_type": "stream",
     "text": [
      "555-2397 Beckett, Barry, JAN, aBc\r\n",
      "555-5116 Carter, Gertrude, DEC, ABc\r\n",
      "555-7929 Jones, Theresa, MAR, dEF\r\n",
      "555-9871 Orwell, Samuel, FEB, ABC\r\n"
     ]
    }
   ],
   "source": [
    "sort  Linux_lessons_files/sort_this_file.txt"
   ]
  },
  {
   "cell_type": "code",
   "execution_count": 2,
   "metadata": {
    "collapsed": false
   },
   "outputs": [
    {
     "name": "stdout",
     "output_type": "stream",
     "text": [
      "555-2397 Beckett, Barry, JAN, aBc\r\n",
      "555-5116 Carter, Gertrude, DEC, ABc\r\n",
      "555-7929 Jones, Theresa, MAR, dEF\r\n",
      "555-9871 Orwell, Samuel, FEB, ABC\r\n"
     ]
    }
   ],
   "source": [
    "sort -k 2 Linux_lessons_files/sort_this_file.txt #With k\n"
   ]
  },
  {
   "cell_type": "code",
   "execution_count": 3,
   "metadata": {
    "collapsed": false
   },
   "outputs": [
    {
     "name": "stdout",
     "output_type": "stream",
     "text": [
      "555-2397 Beckett, Barry, JAN, aBc\r\n",
      "555-9871 Orwell, Samuel, FEB, ABC\r\n",
      "555-7929 Jones, Theresa, MAR, dEF\r\n",
      "555-5116 Carter, Gertrude, DEC, ABc\r\n"
     ]
    }
   ],
   "source": [
    "sort -M -k 4 Linux_lessons_files/sort_this_file.txt"
   ]
  },
  {
   "cell_type": "code",
   "execution_count": 4,
   "metadata": {
    "collapsed": false
   },
   "outputs": [
    {
     "name": "stdout",
     "output_type": "stream",
     "text": [
      "555-9871 Orwell, Samuel, FEB, ABC\r\n",
      "555-5116 Carter, Gertrude, DEC, ABc\r\n",
      "555-2397 Beckett, Barry, JAN, aBc\r\n",
      "555-7929 Jones, Theresa, MAR, dEF\r\n"
     ]
    }
   ],
   "source": [
    "sort -k 5 Linux_lessons_files/sort_this_file.txt #without -f option"
   ]
  },
  {
   "cell_type": "code",
   "execution_count": 5,
   "metadata": {
    "collapsed": false
   },
   "outputs": [
    {
     "name": "stdout",
     "output_type": "stream",
     "text": [
      "555-2397 Beckett, Barry, JAN, aBc\r\n",
      "555-5116 Carter, Gertrude, DEC, ABc\r\n",
      "555-9871 Orwell, Samuel, FEB, ABC\r\n",
      "555-7929 Jones, Theresa, MAR, dEF\r\n"
     ]
    }
   ],
   "source": [
    "sort -f -k 5 Linux_lessons_files/sort_this_file.txt #with -f option"
   ]
  },
  {
   "cell_type": "markdown",
   "metadata": {},
   "source": [
    "-------------------------------------------------------------------------------------------------------------------"
   ]
  },
  {
   "cell_type": "markdown",
   "metadata": {},
   "source": [
    "### Breaking a File into pieces with *split*  ###"
   ]
  },
  {
   "cell_type": "markdown",
   "metadata": {},
   "source": [
    "| Parameter | Perpose |\n",
    "|----------:|---------:|\n",
    "| -b *Size*, --bytes=*size* | split into *size* bytes files, can avoid split files half way |\n",
    "| -C=*size*, --line-bytes=*size* | Split by Bytes in Line-Sized chunks|\n",
    "| -l=*lines*, --lines= *lines* | Split by Number of Lines |"
   ]
  },
  {
   "cell_type": "code",
   "execution_count": 6,
   "metadata": {
    "collapsed": false
   },
   "outputs": [
    {
     "name": "stdout",
     "output_type": "stream",
     "text": []
    }
   ],
   "source": [
    "split -l 2 Linux_lessons_files/sort_this_file.txt Linux_lessons_files/sort_splited"
   ]
  },
  {
   "cell_type": "markdown",
   "metadata": {},
   "source": [
    "This will break *sort_this_file* into two files, numbers aa and ab "
   ]
  },
  {
   "cell_type": "code",
   "execution_count": 7,
   "metadata": {
    "collapsed": false
   },
   "outputs": [
    {
     "name": "stdout",
     "output_type": "stream",
     "text": [
      "4 -rw-r--r-- 1 1000 staff  70 Jan  6 19:01 Linux_lessons_files/sort_splitedaa\r\n",
      "4 -rw-r--r-- 1 1000 staff  67 Jan  6 19:01 Linux_lessons_files/sort_splitedab\r\n",
      "4 -rw-r--r-- 1 1000 staff 137 Sep 10 18:18 Linux_lessons_files/sort_this_file.txt\r\n"
     ]
    }
   ],
   "source": [
    "ls -ls Linux_lessons_files/*"
   ]
  },
  {
   "cell_type": "code",
   "execution_count": 8,
   "metadata": {
    "collapsed": false
   },
   "outputs": [
    {
     "name": "stdout",
     "output_type": "stream",
     "text": [
      "555-2397 Beckett, Barry, JAN, aBc\r\n",
      "555-5116 Carter, Gertrude, DEC, ABc\r\n"
     ]
    }
   ],
   "source": [
    "head  Linux_lessons_files/sort_splitedaa"
   ]
  },
  {
   "cell_type": "markdown",
   "metadata": {
    "collapsed": true
   },
   "source": [
    "> **NOTE:** \n",
    "> <p>*If you specify any default*\n",
    "\n",
    "> ```bash\n",
    "split Linux_lessons_files/sort_this_file.txt\n",
    "```\n",
    "> *file split into **1,000 line chunks**, name begins with x ( xaa,xab, and so on). If no input is specified **split uses standard input** *\n",
    "\n"
   ]
  },
  {
   "cell_type": "code",
   "execution_count": 9,
   "metadata": {
    "collapsed": false
   },
   "outputs": [
    {
     "name": "stdout",
     "output_type": "stream",
     "text": [
      "-rw-r--r--  1 saranga  staff    40B Jan 31 13:36 Linux_lessons_files/sort_splited_bytesaa\r\n",
      "-rw-r--r--  1 saranga  staff    40B Jan 31 13:36 Linux_lessons_files/sort_splited_bytesab\r\n",
      "-rw-r--r--  1 saranga  staff    40B Jan 31 13:36 Linux_lessons_files/sort_splited_bytesac\r\n",
      "-rw-r--r--  1 saranga  staff    17B Jan 31 13:36 Linux_lessons_files/sort_splited_bytesad\r\n"
     ]
    }
   ],
   "source": [
    "ls -lh Linux_lessons_files/sort_this_file.txt;split -b 40 Linux_lessons_files/sort_this_file.txt Linux_lessons_files/sort_splited_bytes\n",
    "ls -lh Linux_lessons_files/sort_splited_bytes*"
   ]
  },
  {
   "cell_type": "markdown",
   "metadata": {},
   "source": [
    "--------------------------------------------------------------------------------------------------------------------"
   ]
  },
  {
   "cell_type": "markdown",
   "metadata": {},
   "source": [
    "### Translating Characters with *tr* ###"
   ]
  },
  {
   "cell_type": "markdown",
   "metadata": {},
   "source": [
    "```bash\n",
    "    tr [options] SET1 SET2\n",
    "\n",
    "```\n",
    "\n",
    "| Parameter | Perpose |\n",
    "|----------:|---------:|\n",
    "| -t, --truncate-set1 | truncate, SET1=SET2 |\n",
    "| [:alnum:]| all letters and digits|\n",
    "| [:upper:] | all upper case letters |\n",
    "| [:lower:] | all lower case letters|\n",
    "| [:digit:] | all digits |\n",
    "| -, range | A-M any character between A to M|"
   ]
  },
  {
   "cell_type": "markdown",
   "metadata": {},
   "source": [
    "<p>SET1 : characters you want replaced in \n",
    "<p>SET2 : characters you want them to be replaced as"
   ]
  },
  {
   "cell_type": "code",
   "execution_count": 4,
   "metadata": {
    "collapsed": false
   },
   "outputs": [
    {
     "name": "stdout",
     "output_type": "stream",
     "text": [
      "555-2397 beckett, barry, JAN, abc\r\n",
      "555-5116 carter, Gertrude, DEc, Abc\r\n",
      "555-9871 Orwell, Samuel, FEb, Abc\r\n",
      "555-7929 Jones, Theresa, MAR, dEF"
     ]
    }
   ],
   "source": [
    "tr BC bc < Linux_lessons_files/sort_this_file.txt"
   ]
  },
  {
   "cell_type": "markdown",
   "metadata": {},
   "source": [
    "> **NOTE:**\n",
    "> <p> * **tr** relies on standard input, i.e why (<) redirection of a input is needed*"
   ]
  },
  {
   "cell_type": "code",
   "execution_count": 5,
   "metadata": {
    "collapsed": false
   },
   "outputs": [
    {
     "name": "stdout",
     "output_type": "stream",
     "text": [
      "555-2397 beckett, barry, cAN, abc\r\n",
      "555-5116 carter, Gertrude, DEc, Abc\r\n",
      "555-9871 Orwell, Samuel, FEb, Abc\r\n",
      "555-7929 cones, Theresa, MAR, dEF"
     ]
    }
   ],
   "source": [
    "tr BCJ bc < Linux_lessons_files/sort_this_file.txt"
   ]
  },
  {
   "cell_type": "markdown",
   "metadata": {},
   "source": [
    "When SET2 < SET1 *tr* substitutes the last letter of SET2 with missing letter. In this case, \"c\" with \"J\"\n"
   ]
  },
  {
   "cell_type": "code",
   "execution_count": 2,
   "metadata": {
    "collapsed": false
   },
   "outputs": [
    {
     "name": "stdout",
     "output_type": "stream",
     "text": [
      "555-2397 beckett, barry, JAN, abc\r\n",
      "555-5116 carter, Gertrude, DEc, Abc\r\n",
      "555-9871 Orwell, Samuel, FEb, Abc\r\n",
      "555-7929 Jones, Theresa, MAR, dEF"
     ]
    }
   ],
   "source": [
    "#run this in Ubuntu\n",
    "tr -t BCJ bc < Linux_lessons_files/sort_this_file.txt"
   ]
  },
  {
   "cell_type": "code",
   "execution_count": 11,
   "metadata": {
    "collapsed": false
   },
   "outputs": [
    {
     "name": "stdout",
     "output_type": "stream",
     "text": [
      "555-2397 eckett, arry, JAN, ac\r\n",
      "555-5116 arter, Gertrude, DE, Ac\r\n",
      "555-9871 Orwell, Samuel, FE, A\r\n",
      "555-7929 Jones, Theresa, MAR, dEF"
     ]
    }
   ],
   "source": [
    "tr -d BC < Linux_lessons_files/sort_this_file.txt"
   ]
  },
  {
   "cell_type": "code",
   "execution_count": 2,
   "metadata": {
    "collapsed": false
   },
   "outputs": [
    {
     "name": "stdout",
     "output_type": "stream",
     "text": [
      "555-2397 BECKETT, BARRY, JAN, ABC\r\n",
      "555-5116 CARTER, GERTRUDE, DEC, ABC\r\n",
      "555-9871 ORWELL, SAMUEL, FEB, ABC\r\n",
      "555-7929 JONES, THERESA, MAR, DEF"
     ]
    }
   ],
   "source": [
    "tr [:lower:]  [:upper:] < Linux_lessons_files/sort_this_file.txt"
   ]
  },
  {
   "cell_type": "code",
   "execution_count": 2,
   "metadata": {
    "collapsed": false
   },
   "outputs": [
    {
     "name": "stdout",
     "output_type": "stream",
     "text": [
      "tr is /usr/bin/tr\r\n"
     ]
    }
   ],
   "source": [
    "type -a tr "
   ]
  },
  {
   "cell_type": "markdown",
   "metadata": {
    "collapsed": true
   },
   "source": [
    "### Converting Spaces to Tabs with *unexpand* ###"
   ]
  },
  {
   "cell_type": "markdown",
   "metadata": {},
   "source": [
    "*expand*\n",
    "\n",
    "- Logical oppsite to *expand*\n",
    "- Converts multiple *spaces* to *Tabs*\n",
    "\n",
    "<font color=\"blue\">Note:</font> This helps to reduce file size, make delimited file"
   ]
  },
  {
   "cell_type": "markdown",
   "metadata": {},
   "source": [
    "-t/ --tabs=num Sets the tab spacing to once every *num*"
   ]
  },
  {
   "cell_type": "code",
   "execution_count": 4,
   "metadata": {
    "collapsed": false
   },
   "outputs": [
    {
     "name": "stdout",
     "output_type": "stream",
     "text": [
      "555-2397 Beckett\r\n",
      "555-5116 Carter\r\n",
      "555-9871 Orwell\r\n",
      "555-7929 Jones\r\n"
     ]
    }
   ],
   "source": [
    "unexpand Linux_lessons_files/join_this_file2.txt"
   ]
  },
  {
   "cell_type": "markdown",
   "metadata": {},
   "source": [
    "### Deleting Duplicate Lines with _uniq_ ###"
   ]
  },
  {
   "cell_type": "code",
   "execution_count": 10,
   "metadata": {
    "collapsed": false
   },
   "outputs": [
    {
     "name": "stdout",
     "output_type": "stream",
     "text": [
      "the\\n\r\n",
      "one\\n\r\n",
      "to\\n\r\n",
      "the\\n\r\n",
      "one\\n\r\n",
      "two\\n\r\n",
      "the\\n\r\n",
      "to\\n\r\n"
     ]
    }
   ],
   "source": [
    "tee  Linux_lessons_files/sort_me.txt << EOF\n",
    "the\\n\n",
    "one\\n\n",
    "to\\n\n",
    "the\\n\n",
    "one\\n\n",
    "two\\n\n",
    "the\\n\n",
    "to\\n\n",
    "EOF"
   ]
  },
  {
   "cell_type": "code",
   "execution_count": 14,
   "metadata": {
    "collapsed": false
   },
   "outputs": [
    {
     "name": "stdout",
     "output_type": "stream",
     "text": [
      "one\\n\r\n",
      "the\\n\r\n",
      "to\\n\r\n",
      "two\\n\r\n"
     ]
    }
   ],
   "source": [
    "sort Linux_lessons_files/sort_me.txt | uniq #File has to be sorted before uniq command execution"
   ]
  },
  {
   "cell_type": "code",
   "execution_count": 15,
   "metadata": {
    "collapsed": false
   },
   "outputs": [
    {
     "name": "stdout",
     "output_type": "stream",
     "text": [
      "the\\n\r\n",
      "one\\n\r\n",
      "to\\n\r\n",
      "the\\n\r\n",
      "one\\n\r\n",
      "two\\n\r\n",
      "the\\n\r\n",
      "to\\n\r\n"
     ]
    }
   ],
   "source": [
    "uniq Linux_lessons_files/sort_me.txt"
   ]
  },
  {
   "cell_type": "markdown",
   "metadata": {},
   "source": [
    "### File-Formating Commands ###\n",
    "- <font color=\"green\">fmt,nl, pr </font> format the text in file\n",
    "- fmt - reformat text file, lines are long for your display\n",
    "- nl - number the lines of your files\n",
    "- pr - format files to suitable for processing \n"
   ]
  },
  {
   "cell_type": "code",
   "execution_count": 18,
   "metadata": {
    "collapsed": false
   },
   "outputs": [
    {
     "name": "stdout",
     "output_type": "stream",
     "text": [
      ">BM1Na_2 MCIC-SOLEXA_0051_FC:0::1:1:3547:1067:ATCACG\r\n",
      "GAAATGCGATAAGTAATGTGAATTGCAGAATTCAGTGAATCATCGAATCTTTGAACACCCCCCTTTTCTCTGTGAATTGCAGAATTTAGTGAATCATCGAAGCTTTTTGCAACAAAAACTGACCTCGGATCGGGTAGGACTACCCGCTGAACTTAA\r\n",
      ">BM1Na_6 MCIC-SOLEXA_0051_FC:0::1:1:7881:1167:AAGGTT\r\n",
      "GACCTCGGATCAGGTAGGAAGACCCGCTGAACTTAAGAAATGCGATAAGTAATGTGAATTGCAGAATTCAGTGAATCATCGAATCTTTGAACACCCCCCTTTTCTCAAGGTTGACCTCGGATCAGGTAGGAAGACCCGCTGAACTTAA\r\n",
      ">BM1Na_7 MCIC-SOLEXA_0051_FC:0::1:1:5494:1193:ATCACG\r\n",
      "GAAATTCGATAAGTAGTGTGAATTGCAGAATTCCGCGsdajjdkjakjdkajskdjakjdsipeq[]qklq,mvckdajdjakdjkajakdjakdjakdadjakjdakjdkajdkajkdjsAATCATCGAATCTTTGAACGCCCTCTTTCCTCA\tAGGTTGACCTCGGATCAGGTGGGAAGACCCGCTGAACTTAA\r\n"
     ]
    }
   ],
   "source": [
    "cat Linux_lessons_files/fmt.fasta"
   ]
  },
  {
   "cell_type": "code",
   "execution_count": 25,
   "metadata": {
    "collapsed": false
   },
   "outputs": [
    {
     "name": "stdout",
     "output_type": "stream",
     "text": [
      ">BM1Na_2 MCIC-SOLEXA_0051_FC:0::1:1:3547:1067:ATCACG\r\n",
      "GAAATGCGATAAGTAATGTGAATTGCAGAATTCAGTGAATCATCGAATCTTTGAACACCCCCCTTTTCTCTGTGAATTGCAGAATTTAGTGAATCATCGAAGCTTTTTGCAACAAAAACTGACCTCGGATCGGGTAGGACTACCCGCTGAACTTAA\r\n",
      ">BM1Na_6 MCIC-SOLEXA_0051_FC:0::1:1:7881:1167:AAGGTT\r\n",
      "GACCTCGGATCAGGTAGGAAGACCCGCTGAACTTAAGAAATGCGATAAGTAATGTGAATTGCAGAATTCAGTGAATCATCGAATCTTTGAACACCCCCCTTTTCTCAAGGTTGACCTCGGATCAGGTAGGAAGACCCGCTGAACTTAA\r\n",
      ">BM1Na_7 MCIC-SOLEXA_0051_FC:0::1:1:5494:1193:ATCACG\r\n",
      "GAAATTCGATAAGTAGTGTGAATTGCAGAATTCCGCGsdajjdkjakjdkajskdjakjdsipeq[]qklq,mvckdajdjakdjkajakdjakdjakdadjakjdakjdkajdkajkdjsAATCATCGAATCTTTGAACGCCCTCTTTCCTCA\r\n",
      "AGGTTGACCTCGGATCAGGTGGGAAGACCCGCTGAACTTAA\r\n"
     ]
    }
   ],
   "source": [
    "fmt -w 60 Linux_lessons_files/fmt.fasta"
   ]
  },
  {
   "cell_type": "markdown",
   "metadata": {},
   "source": [
    "###### Numbering Lines with _nl_ ######"
   ]
  },
  {
   "cell_type": "markdown",
   "metadata": {},
   "source": [
    "<table id=\"box-table-b\">\n",
    "<tr>\n",
    "    <th>Description</th> <th>Option</th> \n",
    "</tr>\n",
    "    \n",
    "    <tr> <td>Body Numbering Style</td> <td>-b, --body-numbering=_style option_, style:format code </td></tr>\n",
    "    <tr> <td>Header and Footer Numbering Style</td> <td> -h style --header-numbering=_style_, -f _style_, --footer-numbering</td></tr>\n",
    "    <tr> <td>Page Separator</td> <td>-how to find new page -d=code or --section-delimiter=code(code=character for the new page)</td></tr>\n",
    "    <tr> <td>Line-Number Options for New pages</td> <td>-n _format_, --number-format=_format_: ln left justfied, rn:right justfied, no leading 0, rz, r j +0</td></tr>\n",
    "</table>\n",
    "\n",
    "<table id=\"box-table-b\">\n",
    "<tr>\n",
    "    <th>Style Code</th> <th>Description</th> \n",
    "</tr>\n",
    "    \n",
    "    <tr> <td>t</td> <td>Default:number none empty lines </td></tr>\n",
    "    <tr> <td>a</td> <td>Number all lines + empty lines</td></tr>\n",
    "    <tr> <td>n</td> <td>All lines numbers to be omitted</td></tr>\n",
    "    <tr> <td>-p_REGEXP_</td> <td>Number any line match to regexp</td></tr>\n",
    "</table>"
   ]
  },
  {
   "cell_type": "code",
   "execution_count": 4,
   "metadata": {
    "collapsed": false
   },
   "outputs": [
    {
     "name": "stdout",
     "output_type": "stream",
     "text": [
      "     1\t>BM1Na_2 MCIC-SOLEXA_0051_FC:0::1:1:3547:1067:ATCACG\r\n",
      "     2\tGAAATGCGATAAGTAATGTGAATTGCAGAATTCAGTGAATCATCGAATCTTTGAACACCCCCCTTTTCTCTGTGAATTGCAGAATTTAGTGAATCATCGAAGCTTTTTGCAACAAAAACTGACCTCGGATCGGGTAGGACTACCCGCTGAACTTAA\r\n",
      "     3\t>BM1Na_6 MCIC-SOLEXA_0051_FC:0::1:1:7881:1167:AAGGTT\r\n",
      "     4\tGACCTCGGATCAGGTAGGAAGACCCGCTGAACTTAAGAAATGCGATAAGTAATGTGAATTGCAGAATTCAGTGAATCATCGAATCTTTGAACACCCCCCTTTTCTCAAGGTTGACCTCGGATCAGGTAGGAAGACCCGCTGAACTTAA\r\n",
      "     5\t>BM1Na_7 MCIC-SOLEXA_0051_FC:0::1:1:5494:1193:ATCACG\r\n",
      "     6\tGAAATTCGATAAGTAGTGTGAATTGCAGAATTCCGCGsdajjdkjakjdkajskdjakjdsipeq[]qklq,mvckdajdjakdjkajakdjakdjakdadjakjdakjdkajdkajkdjsAATCATCGAATCTTTGAACGCCCTCTTTCCTCA\tAGGTTGACCTCGGATCAGGTGGGAAGACCCGCTGAACTTAA\r\n"
     ]
    }
   ],
   "source": [
    "nl Linux_lessons_files/fmt.fasta"
   ]
  },
  {
   "cell_type": "code",
   "execution_count": 8,
   "metadata": {
    "collapsed": false
   },
   "outputs": [
    {
     "name": "stdout",
     "output_type": "stream",
     "text": [
      "     1\t>BM1Na_2 MCIC-SOLEXA_0051_FC:0::1:1:3547:1067:ATCACG\r\n",
      "     2\tGAAATGCGATAAGTAATGTGAATTGCAGAATTCAGTGAATCATCGAATCTTTGAACACCCCCCTTTTCTCTGTGAATTGCAGAATTTAGTGAATCATCGAAGCTTTTTGCAACAAAAACTGACCTCGGATCGGGTAGGACTACCCGCTGAACTTAA\r\n",
      "     3\t>BM1Na_6 MCIC-SOLEXA_0051_FC:0::1:1:7881:1167:AAGGTT\r\n",
      "     4\tGACCTCGGATCAGGTAGGAAGACCCGCTGAACTTAAGAAATGCGATAAGTAATGTGAATTGCAGAATTCAGTGAATCATCGAATCTTTGAACACCCCCCTTTTCTCAAGGTTGACCTCGGATCAGGTAGGAAGACCCGCTGAACTTAA\r\n",
      "     5\t>BM1Na_7 MCIC-SOLEXA_0051_FC:0::1:1:5494:1193:ATCACG\r\n",
      "     6\tGAAATTCGATAAGTAGTGTGAATTGCAGAATTCCGCGsdajjdkjakjdkajskdjakjdsipeq[]qklq,mvckdajdjakdjkajakdjakdjakdadjakjdakjdkajdkajkdjsAATCATCGAATCTTTGAACGCCCTCTTTCCTCA\tAGGTTGACCTCGGATCAGGTGGGAAGACCCGCTGAACTTAA\r\n"
     ]
    }
   ],
   "source": [
    "nl -h n Linux_lessons_files/fmt.fasta"
   ]
  },
  {
   "cell_type": "code",
   "execution_count": 9,
   "metadata": {
    "collapsed": false
   },
   "outputs": [
    {
     "name": "stdout",
     "output_type": "stream",
     "text": [
      "1     \t>BM1Na_2 MCIC-SOLEXA_0051_FC:0::1:1:3547:1067:ATCACG\r\n",
      "2     \tGAAATGCGATAAGTAATGTGAATTGCAGAATTCAGTGAATCATCGAATCTTTGAACACCCCCCTTTTCTCTGTGAATTGCAGAATTTAGTGAATCATCGAAGCTTTTTGCAACAAAAACTGACCTCGGATCGGGTAGGACTACCCGCTGAACTTAA\r\n",
      "3     \t>BM1Na_6 MCIC-SOLEXA_0051_FC:0::1:1:7881:1167:AAGGTT\r\n",
      "4     \tGACCTCGGATCAGGTAGGAAGACCCGCTGAACTTAAGAAATGCGATAAGTAATGTGAATTGCAGAATTCAGTGAATCATCGAATCTTTGAACACCCCCCTTTTCTCAAGGTTGACCTCGGATCAGGTAGGAAGACCCGCTGAACTTAA\r\n",
      "5     \t>BM1Na_7 MCIC-SOLEXA_0051_FC:0::1:1:5494:1193:ATCACG\r\n",
      "6     \tGAAATTCGATAAGTAGTGTGAATTGCAGAATTCCGCGsdajjdkjakjdkajskdjakjdsipeq[]qklq,mvckdajdjakdjkajakdjakdjakdadjakjdakjdkajdkajkdjsAATCATCGAATCTTTGAACGCCCTCTTTCCTCA\tAGGTTGACCTCGGATCAGGTGGGAAGACCCGCTGAACTTAA\r\n"
     ]
    }
   ],
   "source": [
    "nl -n ln Linux_lessons_files/fmt.fasta"
   ]
  },
  {
   "cell_type": "code",
   "execution_count": 10,
   "metadata": {
    "collapsed": false
   },
   "outputs": [
    {
     "name": "stdout",
     "output_type": "stream",
     "text": [
      "     1\t>BM1Na_2 MCIC-SOLEXA_0051_FC:0::1:1:3547:1067:ATCACG\r\n",
      "     2\tGAAATGCGATAAGTAATGTGAATTGCAGAATTCAGTGAATCATCGAATCTTTGAACACCCCCCTTTTCTCTGTGAATTGCAGAATTTAGTGAATCATCGAAGCTTTTTGCAACAAAAACTGACCTCGGATCGGGTAGGACTACCCGCTGAACTTAA\r\n",
      "     3\t>BM1Na_6 MCIC-SOLEXA_0051_FC:0::1:1:7881:1167:AAGGTT\r\n",
      "     4\tGACCTCGGATCAGGTAGGAAGACCCGCTGAACTTAAGAAATGCGATAAGTAATGTGAATTGCAGAATTCAGTGAATCATCGAATCTTTGAACACCCCCCTTTTCTCAAGGTTGACCTCGGATCAGGTAGGAAGACCCGCTGAACTTAA\r\n",
      "     5\t>BM1Na_7 MCIC-SOLEXA_0051_FC:0::1:1:5494:1193:ATCACG\r\n",
      "     6\tGAAATTCGATAAGTAGTGTGAATTGCAGAATTCCGCGsdajjdkjakjdkajskdjakjdsipeq[]qklq,mvckdajdjakdjkajakdjakdjakdadjakjdakjdkajdkajkdjsAATCATCGAATCTTTGAACGCCCTCTTTCCTCA\tAGGTTGACCTCGGATCAGGTGGGAAGACCCGCTGAACTTAA\r\n"
     ]
    }
   ],
   "source": [
    "nl -n rn Linux_lessons_files/fmt.fasta"
   ]
  },
  {
   "cell_type": "code",
   "execution_count": 11,
   "metadata": {
    "collapsed": false
   },
   "outputs": [
    {
     "name": "stdout",
     "output_type": "stream",
     "text": [
      "000001\t>BM1Na_2 MCIC-SOLEXA_0051_FC:0::1:1:3547:1067:ATCACG\r\n",
      "000002\tGAAATGCGATAAGTAATGTGAATTGCAGAATTCAGTGAATCATCGAATCTTTGAACACCCCCCTTTTCTCTGTGAATTGCAGAATTTAGTGAATCATCGAAGCTTTTTGCAACAAAAACTGACCTCGGATCGGGTAGGACTACCCGCTGAACTTAA\r\n",
      "000003\t>BM1Na_6 MCIC-SOLEXA_0051_FC:0::1:1:7881:1167:AAGGTT\r\n",
      "000004\tGACCTCGGATCAGGTAGGAAGACCCGCTGAACTTAAGAAATGCGATAAGTAATGTGAATTGCAGAATTCAGTGAATCATCGAATCTTTGAACACCCCCCTTTTCTCAAGGTTGACCTCGGATCAGGTAGGAAGACCCGCTGAACTTAA\r\n",
      "000005\t>BM1Na_7 MCIC-SOLEXA_0051_FC:0::1:1:5494:1193:ATCACG\r\n",
      "000006\tGAAATTCGATAAGTAGTGTGAATTGCAGAATTCCGCGsdajjdkjakjdkajskdjakjdsipeq[]qklq,mvckdajdjakdjkajakdjakdjakdadjakjdakjdkajdkajkdjsAATCATCGAATCTTTGAACGCCCTCTTTCCTCA\tAGGTTGACCTCGGATCAGGTGGGAAGACCCGCTGAACTTAA\r\n"
     ]
    }
   ],
   "source": [
    "nl -n rz Linux_lessons_files/fmt.fasta"
   ]
  },
  {
   "cell_type": "markdown",
   "metadata": {
    "collapsed": false
   },
   "source": [
    "### Preparing a File for Printing with _pr_ ###"
   ]
  },
  {
   "cell_type": "markdown",
   "metadata": {
    "collapsed": true
   },
   "source": [
    "Skiping"
   ]
  },
  {
   "cell_type": "markdown",
   "metadata": {},
   "source": [
    "### File-Viewing Commands ###\n",
    "\n",
    "- head, first 10 lines\n",
    "\n",
    "|Option|Description|\n",
    "|------|-----------|\n",
    "|-c _num_, --bytes=_num_ | display _num_ bytes|\n",
    "|-n _num_, --lines=_num_| n of lines to display|"
   ]
  },
  {
   "cell_type": "markdown",
   "metadata": {},
   "source": [
    "- tail, last 10 lines\n",
    "\n",
    "|Option|Description|\n",
    "|------|-----------|\n",
    "|-c _num_, --bytes=_num_ | display _num_ bytes|\n",
    "|-n _num_, --lines=_num_| n of lines to display|\n",
    "|-f , --follow | Track a file|\n",
    "|--pid=_pid_ | tail to terminate tracking once the process ID terminate|\n",
    "\n",
    "<font color=\"green\">NOTE:</font> Extract line 11-15"
   ]
  },
  {
   "cell_type": "code",
   "execution_count": 6,
   "metadata": {
    "collapsed": false
   },
   "outputs": [
    {
     "name": "stdout",
     "output_type": "stream",
     "text": [
      "     5\tone\\n\r\n",
      "     6\ttwo\\n\r\n"
     ]
    }
   ],
   "source": [
    "nl -b t Linux_lessons_files/sort_me.txt| head -n 6 | tail -n 2"
   ]
  },
  {
   "cell_type": "markdown",
   "metadata": {},
   "source": [
    "### Paging through Files with _less_ ###"
   ]
  },
  {
   "cell_type": "markdown",
   "metadata": {},
   "source": [
    "- _less_ is more\n",
    "- _less_ print file screen at a time\n",
    "- **move forward screen at a time** **Space Bar**  \n",
    "- **go backward**  \n",
    "\n",
    "|Press|Followed By|\n",
    "|------|-----------|\n",
    "|**Esc**|**V**|\n",
    "\n",
    "- **Search fowrward ** /\"search me\"\n",
    "\n",
    "    \n",
    "|Search|Followed By|\n",
    "|------|-----------|\n",
    "|forwared with search|n|\n",
    "|Go backward|**N**|\n",
    " \n",
    "- **Search backward** \n",
    "\n",
    "|Search backward|key|\n",
    "|------|-----------|\n",
    "||**?**|\n",
    "\n",
    "- **Go to line 50**\n",
    "\n",
    "|Press|Followed By|\n",
    "|------|-----------|\n",
    "|**G**|50|\n",
    " \n",
    " - Help of \n",
    " \n",
    "|Press|Followed By|\n",
    "|------|-----------|\n",
    "|**H**|Help of _less_|"
   ]
  },
  {
   "cell_type": "markdown",
   "metadata": {
    "collapsed": true
   },
   "source": [
    "<h3>File-Summarizing Commands</h3>\n",
    "- _cut_  get part of the file and send to STDOUT\n",
    "- _wc_ basic statistics of a file\n",
    "<h4>Extracting Text with _cut_</h4>\n",
    "- _list_ : 2, 2-4, open range -4 or 4-\n",
    "\n",
    "|Option|Description|\n",
    "|------|-----------|\n",
    "|-b _list_, --bytes=_list_|list of bytes from the input file|\n",
    "|-c _list_, --characters =_list_| Cuts specified list of characters from the input, _b and c same for same encoding_|\n",
    "|-f _list_, --fields=_list_ | Cut the list of specified fields from the input file. _Default_  tab-delimeted field|\n",
    "|-d  _char_, --delimiter=_char_ | _char_ is the character for delimit|\n",
    "|-s, --only-delimited | do not print lines not containing delimiters.|"
   ]
  },
  {
   "cell_type": "code",
   "execution_count": 16,
   "metadata": {
    "collapsed": false
   },
   "outputs": [
    {
     "name": "stdout",
     "output_type": "stream",
     "text": [
      "cat command for file oriented operations.\r\n",
      "cp command for copy files or directories.\r\n",
      "ls command to list out files and directories with its attributes.\r\n"
     ]
    }
   ],
   "source": [
    "cat Linux_lessons_files/cut.txt"
   ]
  },
  {
   "cell_type": "markdown",
   "metadata": {},
   "source": [
    "**1. Cut Characters**"
   ]
  },
  {
   "cell_type": "code",
   "execution_count": 3,
   "metadata": {
    "collapsed": false
   },
   "outputs": [
    {
     "name": "stdout",
     "output_type": "stream",
     "text": [
      "c\r\n",
      "c\r\n",
      "l\r\n",
      "at command for file oriented operations.\r\n",
      "p command for copy files or directories.\r\n",
      "s command to list out files and directories with its attributes.\r\n"
     ]
    }
   ],
   "source": [
    "cut -c 1 Linux_lessons_files/cut.txt; cut -c 2- Linux_lessons_files/cut.txt"
   ]
  },
  {
   "cell_type": "markdown",
   "metadata": {
    "collapsed": true
   },
   "source": [
    "**2. Cut bytes from the input**"
   ]
  },
  {
   "cell_type": "code",
   "execution_count": 7,
   "metadata": {
    "collapsed": false
   },
   "outputs": [
    {
     "name": "stdout",
     "output_type": "stream",
     "text": [
      "at command for file oriented operations.\r\n",
      "p command for copy files or directories.\r\n",
      "s command to list out files and directories with its attributes.\r\n"
     ]
    }
   ],
   "source": [
    "cut -b 2- Linux_lessons_files/cut.txt"
   ]
  },
  {
   "cell_type": "markdown",
   "metadata": {},
   "source": [
    "**3. Cut Column from Delimited file**"
   ]
  },
  {
   "cell_type": "code",
   "execution_count": 9,
   "metadata": {
    "collapsed": false
   },
   "outputs": [
    {
     "name": "stdout",
     "output_type": "stream",
     "text": [
      "command\r\n",
      "command\r\n",
      "command\r\n"
     ]
    }
   ],
   "source": [
    "cut -f 2 -d \" \" Linux_lessons_files/cut.txt"
   ]
  },
  {
   "cell_type": "code",
   "execution_count": 14,
   "metadata": {
    "collapsed": false
   },
   "outputs": [
    {
     "name": "stdout",
     "output_type": "stream",
     "text": [
      "nobody\r\n",
      "root\r\n"
     ]
    }
   ],
   "source": [
    "cut -s -f 1 -d \":\" /etc/passwd | head -n 2"
   ]
  },
  {
   "cell_type": "markdown",
   "metadata": {},
   "source": [
    "<h4> Obtaining a Word Count with _wc_</h4>\n",
    "\n",
    "|Option|Description|\n",
    "|------|-----------|\n",
    "|-l, --lines|New line characters in a doc|\n",
    "|-w, --words|Words count|\n",
    "|-c, --bytes|number of bytes|\n",
    "|-m, --chars|Number of characters|\n",
    "|-L, -max-line-length| maximum line length| \n",
    "\n",
    "<font color=\"green\">NOTE:</font> For ordinary ASCII file -c and -m will give you the same output. But Multiple character encoding this will change"
   ]
  },
  {
   "cell_type": "code",
   "execution_count": 21,
   "metadata": {
    "collapsed": false
   },
   "outputs": [
    {
     "name": "stdout",
     "output_type": "stream",
     "text": [
      "       3 Linux_lessons_files/cut.txt\r\n"
     ]
    }
   ],
   "source": [
    "wc -l  Linux_lessons_files/cut.txt"
   ]
  },
  {
   "cell_type": "markdown",
   "metadata": {},
   "source": [
    "<h2>Using Regular Expressions</h2><a id=\"Using Regular Expressions\">"
   ]
  },
  {
   "cell_type": "markdown",
   "metadata": {},
   "source": [
    "<h3>Understanding Regular Expressions</h3>\n",
    "- Basic Reg expression\n",
    "- Extended\n",
    "\n",
    "**Type Of Reg Expressions**\n",
    " - String - simplest regular expression.(Linux, HWaddr,\"@\")\n",
    " - Bracket Expressions -[] matches any <font color=\"red\">_1 char in the bracket.</font> ex: b[aeiou]g , bag,beg,big,bug\n",
    " - Range Expression - Instead of listing every character that matches, range use start and end.a[2-4]z a2z,a3z,a4z\n",
    " - Any Single Character - ., a.z, a2z, abz, aQZ,\n",
    " - Start/End line - ^:Start $:End\n",
    " - Repetition Operators -how manytimes matching item must exist.\n",
    "     -  \\*  zero or more times.  Often use as  \\.\\* , e.g: A \\.\\*Lincoln \n",
    "     -  \\\\+ 1 or more times\n",
    "     - ? Zero or 1 time\n",
    " - Multiple possible strings - \\(\\|\\) e\\.g: truck | car, will match to truck or car\n",
    " - Paraentheses "
   ]
  },
  {
   "cell_type": "code",
   "execution_count": 10,
   "metadata": {
    "collapsed": false
   },
   "outputs": [
    {
     "name": "stdout",
     "output_type": "stream",
     "text": [
      "Abe Lincoln\r\n"
     ]
    }
   ],
   "source": [
    "echo \"Abe Lincoln\"  |  grep \"A.*Lincoln\" #repeat any single character (.) zero or moretimes"
   ]
  },
  {
   "cell_type": "code",
   "execution_count": 21,
   "metadata": {
    "collapsed": false
   },
   "outputs": [
    {
     "name": "stdout",
     "output_type": "stream",
     "text": []
    }
   ],
   "source": [
    "echo \"ALincoln\"  |  grep \"A.\\+Lincoln\" #repeat any single character (.) one or moretimes.This doesnt work coz there is no characters between A and Lincoln"
   ]
  },
  {
   "cell_type": "code",
   "execution_count": 22,
   "metadata": {
    "collapsed": false
   },
   "outputs": [
    {
     "name": "stdout",
     "output_type": "stream",
     "text": [
      "Abe Lincoln\r\n"
     ]
    }
   ],
   "source": [
    "echo \"Abe Lincoln\"  |  grep \"A.\\+Lincoln\" #repeat any single character (.) one or moretimes"
   ]
  },
  {
   "cell_type": "code",
   "execution_count": 4,
   "metadata": {
    "collapsed": false
   },
   "outputs": [
    {
     "name": "stdout",
     "output_type": "stream",
     "text": [
      "this line has car\r\n",
      "this line has truck\r\n"
     ]
    }
   ],
   "source": [
    "grep \"truck\\|car\" Linux_lessons_files/regex.txt"
   ]
  },
  {
   "cell_type": "code",
   "execution_count": 10,
   "metadata": {
    "collapsed": false
   },
   "outputs": [
    {
     "name": "stdout",
     "output_type": "stream",
     "text": [
      "This had Abe Lincoln\r\n"
     ]
    }
   ],
   "source": [
    "grep \"A.\\+Lincoln\" Linux_lessons_files/regex1.txt #Here ALincoln will be omitted"
   ]
  },
  {
   "cell_type": "markdown",
   "metadata": {},
   "source": [
    "*Ex: Begining of line* *^*\n",
    "\n",
    "The ^ matches the expression in the beginning of a line, only if it is the first character in a regular expression. ^N matches line beginning with N."
   ]
  },
  {
   "cell_type": "code",
   "execution_count": 6,
   "metadata": {
    "collapsed": false
   },
   "outputs": [
    {
     "name": "stdout",
     "output_type": "stream",
     "text": [
      "Apr 11 00:43:10 MacBook-Pro kernel[0]: AirParrot device perform power state change 1 -> 0\r\n",
      "Apr 11 00:43:10 MacBook-Pro kernel[0]: AppleThunderboltNHIType2::prePCIWake - power up complete - took 1 us\r\n",
      "Apr 11 00:43:10 MacBook-Pro kernel[0]: AppleThunderboltGenericHAL::earlyWake - complete - took 0 milliseconds\r\n",
      "Apr 11 00:43:10 MacBook-Pro kernel[0]: en0: BSSID changed to c0:3f:0e:9f:77:d6\r\n",
      "Apr 11 00:43:10 MacBook-Pro kernel[0]: en0: channel changed to 6\r\n"
     ]
    }
   ],
   "source": [
    "grep \"^Apr\" /var/log/system.log | head -n 5"
   ]
  },
  {
   "cell_type": "markdown",
   "metadata": {},
   "source": [
    "Ex 2. End of the line ( $)\n",
    "\n",
    "Character $ matches the expression at the end of a line. The following command will help you to get all the lines which ends with the word “update”."
   ]
  },
  {
   "cell_type": "code",
   "execution_count": 15,
   "metadata": {
    "collapsed": false
   },
   "outputs": [
    {
     "name": "stdout",
     "output_type": "stream",
     "text": [
      "Feb 23 01:53:04 MCIC-SEL17-D1 GoogleSoftwareUpdateAgent[90165]: 2016-02-23 01:53:04.493 GoogleSoftwareUpdateAgent[90165/0xb0219000] [lvl=2] -[KSAgentApp performSelfUpdateWithEngine:] This process may be killed if self-update is necessary. In such cases, sub-processes may still be running to complete the self-update.\r\n",
      "\t\t\turl=https://tools.google.com/service/update2\r\n",
      "\t\t\t</o:gupdate>\r\n",
      "\t\t\t</gupdate>\r\n",
      "\t\t\turl=https://tools.google.com/service/update2\r\n",
      "\t\t\t</o:gupdate>\r\n",
      "\t\t\t</gupdate>\r\n",
      "Feb 23 06:55:08 MCIC-SEL17-D1 GoogleSoftwareUpdateAgent[91137]: 2016-02-23 06:55:08.962 GoogleSoftwareUpdateAgent[91137/0xb0219000] [lvl=2] -[KSAgentApp performSelfUpdateWithEngine:] This process may be killed if self-update is necessary. In such cases, sub-processes may still be running to complete the self-update.\r\n",
      "\t\t\turl=https://tools.google.com/service/update2\r\n",
      "\t\t\t</o:gupdate>\r\n",
      "\t\t\t</gupdate>\r\n",
      "\t\t\turl=https://tools.google.com/service/update2\r\n",
      "\t\t\t</o:gupdate>\r\n",
      "\t\t\t</gupdate>\r\n"
     ]
    }
   ],
   "source": [
    "grep \"update.$\" /var/log/system.log"
   ]
  },
  {
   "cell_type": "markdown",
   "metadata": {},
   "source": [
    "Ex 3. Count of empty lines ( ^$ )\n",
    "\n",
    "Using ^ and \\$ character you can find out the empty lines available in a file. “^$” specifies empty line."
   ]
  },
  {
   "cell_type": "code",
   "execution_count": 17,
   "metadata": {
    "collapsed": false
   },
   "outputs": [
    {
     "name": "stdout",
     "output_type": "stream",
     "text": [
      "0\r\n"
     ]
    }
   ],
   "source": [
    "grep -c \"^$\" /var/log/system.log"
   ]
  },
  {
   "cell_type": "markdown",
   "metadata": {},
   "source": [
    "Ex 4. Single Character (.)\n",
    "\n",
    "The special meta-character “.” (dot) matches any character except the end of the line character. Let us take the input file which has the content as follows."
   ]
  },
  {
   "cell_type": "code",
   "execution_count": 19,
   "metadata": {
    "collapsed": false
   },
   "outputs": [
    {
     "name": "stdout",
     "output_type": "stream",
     "text": [
      "1. first line\r\n",
      "2. hi hello\r\n",
      "3. hi zello how are you\r\n",
      "4. cello\r\n",
      "5. aello\r\n",
      "6. eello\r\n",
      "7. last line\r\n"
     ]
    }
   ],
   "source": [
    "tee Linux_lessons_files/regex2.txt << EOF\n",
    "1. first line\n",
    "2. hi hello\n",
    "3. hi zello how are you\n",
    "4. cello\n",
    "5. aello\n",
    "6. eello\n",
    "7. last line\n",
    "EOF"
   ]
  },
  {
   "cell_type": "code",
   "execution_count": 20,
   "metadata": {
    "collapsed": false
   },
   "outputs": [
    {
     "name": "stdout",
     "output_type": "stream",
     "text": [
      "2. hi hello\r\n",
      "3. hi zello how are you\r\n",
      "4. cello\r\n",
      "5. aello\r\n",
      "6. eello\r\n"
     ]
    }
   ],
   "source": [
    "grep \".ello\" Linux_lessons_files/regex2.txt"
   ]
  },
  {
   "cell_type": "markdown",
   "metadata": {},
   "source": [
    "In case if you want to search for a word which has only 4 character you can give grep -w “….” where single dot represents any single character."
   ]
  },
  {
   "cell_type": "code",
   "execution_count": 2,
   "metadata": {
    "collapsed": false
   },
   "outputs": [
    {
     "name": "stdout",
     "output_type": "stream",
     "text": [
      "7. last line\r\n"
     ]
    }
   ],
   "source": [
    "grep -w  \"....\" Linux_lessons_files/regex2.txt"
   ]
  },
  {
   "cell_type": "markdown",
   "metadata": {
    "collapsed": true
   },
   "source": [
    "Ex 5. Zero or more occurrence (*)\n",
    "\n",
    "The special character “\\*” matches zero or more occurrence of the previous character. For example, the pattern ‘1*’ matches zero or more ‘1’."
   ]
  },
  {
   "cell_type": "code",
   "execution_count": 1,
   "metadata": {
    "collapsed": false
   },
   "outputs": [
    {
     "name": "stdout",
     "output_type": "stream",
     "text": [
      "Apr 11 20:44:28 MacBook-Pro mdworker[591]: SecStaticCode: verification failed (trust result 5, error -2147409622)\r\n",
      "Apr 11 20:46:59 MacBook-Pro mdworker[590]: SecStaticCode: verification failed (trust result 5, error -2147409622)\r\n"
     ]
    }
   ],
   "source": [
    "grep \"SecStaticCode: *.\" /var/log/system.log | head -n 2"
   ]
  },
  {
   "cell_type": "markdown",
   "metadata": {},
   "source": [
    "In the above example it matches for SecStaticCode and colon symbol followed by any number of spaces/no space and “.” matches any single character."
   ]
  },
  {
   "cell_type": "markdown",
   "metadata": {},
   "source": [
    "Ex 6. One or more occurrence (\\+)\n",
    "\n",
    "The special character “\\+” matches one or more occurrence of the previous character. ” \\+” matches at least one or more space character.\n",
    "If there is no space then it will not match. The character “+” comes under extended regular expression. So you have to escape when you want to use it with the grep command."
   ]
  },
  {
   "cell_type": "code",
   "execution_count": 13,
   "metadata": {
    "collapsed": false
   },
   "outputs": [
    {
     "name": "stdout",
     "output_type": "stream",
     "text": [
      "hi hello\r\n",
      "hi    hello how are you\r\n",
      "hihello\r\n"
     ]
    }
   ],
   "source": [
    "tee Linux_lessons_files/regex3.txt << EOF\n",
    "hi hello\n",
    "hi    hello how are you\n",
    "hihello\n",
    "EOF"
   ]
  },
  {
   "cell_type": "code",
   "execution_count": 14,
   "metadata": {
    "collapsed": false
   },
   "outputs": [
    {
     "name": "stdout",
     "output_type": "stream",
     "text": [
      "hi hello\r\n",
      "hi    hello how are you\r\n"
     ]
    }
   ],
   "source": [
    "grep \"hi \\+hello\" Linux_lessons_files/regex3.txt"
   ]
  },
  {
   "cell_type": "markdown",
   "metadata": {},
   "source": [
    "In the above example, the grep pattern matches for the pattern ‘hi’, followed by one or more space character, followed by “hello”. If there is no space between hi and hello it wont match that. However, \\* character matches zero or more occurrence.\n",
    "“hihello” will be matched by \\* as shown below."
   ]
  },
  {
   "cell_type": "code",
   "execution_count": 15,
   "metadata": {
    "collapsed": false
   },
   "outputs": [
    {
     "name": "stdout",
     "output_type": "stream",
     "text": [
      "hi hello\r\n",
      "hi    hello how are you\r\n",
      "hihello\r\n"
     ]
    }
   ],
   "source": [
    "grep \"hi *hello\" Linux_lessons_files/regex3.txt"
   ]
  },
  {
   "cell_type": "markdown",
   "metadata": {},
   "source": [
    "Ex7. Zero or one occurrence (\\?)\n",
    "\n",
    "The special character “?” matches zero or one occurrence of the previous character. “0?” matches single zero or nothing."
   ]
  },
  {
   "cell_type": "code",
   "execution_count": 17,
   "metadata": {
    "collapsed": false
   },
   "outputs": [
    {
     "name": "stdout",
     "output_type": "stream",
     "text": [
      "hi hello\r\n",
      "hihello\r\n"
     ]
    }
   ],
   "source": [
    "grep \"hi \\?hello\" Linux_lessons_files/regex3.txt"
   ]
  },
  {
   "cell_type": "markdown",
   "metadata": {},
   "source": [
    "“hi \\?hello” matches hi and hello with single space (hi hello) and no space (hihello).\n",
    "**The line which has more than one space between hi and hello did not get matched in the above command.**"
   ]
  },
  {
   "cell_type": "markdown",
   "metadata": {},
   "source": [
    "Ex8.Escaping the special character (\\\\)\n",
    "\n",
    "If you want to search for special characters (for example: \\* , dot) in the content you have to escape the special character in the regular expression."
   ]
  },
  {
   "cell_type": "markdown",
   "metadata": {
    "collapsed": true
   },
   "source": [
    "<h3> Using sed</h3>\n",
    "\n",
    "```bash\n",
    "\n",
    "sed [options] -f script-file inputfile\n",
    "sed [options] script-text inputfile\n",
    "\n",
    "```\n",
    "\n",
    "- *script-file* set of commands sed to perform\n",
    "- *script-text* typically enclosed in single quote"
   ]
  },
  {
   "cell_type": "markdown",
   "metadata": {},
   "source": [
    "|Command|Addresses|Meaning|\n",
    "|------|-----------||\n",
    "|=|0 or 1|Display the current line number |\n",
    "|a\\text|0 or 1|Append text to the file |\n",
    "|i\\text|0 or 1|Insert text into the file|\n",
    "|r filename|0 or 1|Append text from filename into the file |\n",
    "|c\\text| Range|Replace the selected range of lines with the provided text  |\n",
    "|s/regexp/replacement| Range| Replace text that matches the regular expression (regexp) with replacement |\n",
    "|w filename| Range| Write the current pattern space to the specified file |\n",
    "|q| 0 or 1| Immediately quit the script, but print the current pat- tern space  |\n",
    "|Q| 0 or 1| Immediately quit the script  |\n",
    "\n",
    "- *sed* commands operate on addresses *which are line numbers*\n",
    "\n",
    "**Ex:**\n",
    "\n",
    "```bash\n",
    "\n",
    "sed 's/2012/2013/' cal-210.txt > cal-txt.txt\n",
    "```\n",
    "\n",
    "- This replaces first occuerance of '2012'.\n",
    "- To replace all the occurences use 'g'.\n",
    "\n",
    "**Ex:**\n",
    "\n",
    "```bash\n",
    "\n",
    "sed 's/2012/2013/g' cal-210.txt > cal-txt.txt\n",
    "```\n",
    "\n",
    "\n",
    "\n"
   ]
  },
  {
   "cell_type": "markdown",
   "metadata": {},
   "source": [
    "**Real World Scenario**\n",
    "\n",
    "Dos to Unix\n",
    "\n",
    "```bash\n",
    "tr -d \\\\r < in_file.txt > unixfile.txt\n",
    "```\n",
    "Unix to Dos\n",
    "```bash\n",
    "sed 's/$/\\r/' in_file.txt > unixfile.txt\n",
    "```"
   ]
  },
  {
   "cell_type": "code",
   "execution_count": 8,
   "metadata": {
    "collapsed": false
   },
   "outputs": [
    {
     "name": "stdout",
     "output_type": "stream",
     "text": []
    }
   ],
   "source": [
    "echo \"dig\" | grep \"d.ig\""
   ]
  },
  {
   "cell_type": "code",
   "execution_count": null,
   "metadata": {
    "collapsed": true
   },
   "outputs": [],
   "source": []
  }
 ],
 "metadata": {
  "kernelspec": {
   "display_name": "Bash",
   "language": "bash",
   "name": "bash"
  },
  "language_info": {
   "codemirror_mode": "shell",
   "file_extension": ".sh",
   "mimetype": "text/x-sh",
   "name": "bash"
  }
 },
 "nbformat": 4,
 "nbformat_minor": 0
}
